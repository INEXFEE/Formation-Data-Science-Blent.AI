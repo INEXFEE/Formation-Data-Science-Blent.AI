{
 "cells": [
  {
   "cell_type": "code",
   "execution_count": 1,
   "id": "b1ddeda0-a359-43db-a225-8ef50544d4c3",
   "metadata": {},
   "outputs": [
    {
     "name": "stdout",
     "output_type": "stream",
     "text": [
      "Claire Leroy a 45 ans.\n"
     ]
    }
   ],
   "source": [
    "import pandas as pd\n",
    "\n",
    "# Création du DataFrame avec un Index explicite (les IDs de la personne)\n",
    "personnes_df = pd.DataFrame(\n",
    "[\n",
    "[\"Alice\", \"Dubois\", 25],\n",
    "[\"Bob\", \"Martin\", 30],\n",
    "[\"Claire\", \"Leroy\", 45]\n",
    "],\n",
    "columns=[\"Prénom\", \"Nom\", \"Âge\"],\n",
    "index=[101, 102, 103]  # Indexation non numérique pour plus de clarté\n",
    ")\n",
    "\n",
    "#Accès à la Ligne avec .loc[]\n",
    "\n",
    "#La méthode .loc[] permet d'accéder à la ligne ciblée (ici, la ligne de Claire Leroy) en utilisant son index (ici, 103).Python\n",
    "\n",
    "# Sélection de la ligne par son Index (label)\n",
    "ligne_claire = personnes_df.loc[103]\n",
    "\n",
    "# Résultat de la ligne:\n",
    "# Prénom    Claire\n",
    "# Nom        Leroy\n",
    "# Âge           45\n",
    "# Name: 103, dtype: object\n",
    "\n",
    "# Utilisation de F-strings avec le nom des colonnes (Clarté maximale)\n",
    "print(f\"{ligne_claire['Prénom']} {ligne_claire['Nom']} a {ligne_claire['Âge']} ans.\")\n",
    "\n",
    "# Résultat : Claire Leroy a 45 ans."
   ]
  }
 ],
 "metadata": {
  "kernelspec": {
   "display_name": "Python 3 (ipykernel)",
   "language": "python",
   "name": "python3"
  },
  "language_info": {
   "codemirror_mode": {
    "name": "ipython",
    "version": 3
   },
   "file_extension": ".py",
   "mimetype": "text/x-python",
   "name": "python",
   "nbconvert_exporter": "python",
   "pygments_lexer": "ipython3",
   "version": "3.12.2"
  }
 },
 "nbformat": 4,
 "nbformat_minor": 5
}
