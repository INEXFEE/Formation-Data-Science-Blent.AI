{
 "cells": [
  {
   "cell_type": "code",
   "execution_count": 9,
   "id": "e640f02b-3727-42b4-9289-d08a197ce92e",
   "metadata": {},
   "outputs": [
    {
     "name": "stdout",
     "output_type": "stream",
     "text": [
      "Jean Dupont a 35 ans et vient de Paris\n",
      "[4, 6, 8, 2, 1, 6, 4, 2, 3, 0, 3]\n",
      "3\n",
      "[4, 6, 8]\n",
      "[3, 0, 3]\n",
      "[8, 2]\n",
      "[3, 0, 3, 2, 4, 6, 1, 2, 8, 6, 4]\n",
      "[8, 2]\n",
      "1\n",
      "2\n",
      "[8, 2]\n"
     ]
    }
   ],
   "source": [
    "personne = [\"Jean\", \"Dupont\", 35]\n",
    "\n",
    "personne.append(\"Paris\")\n",
    "\n",
    "print(personne[0], personne[1], \"a\", personne[2], \"ans et vient de\", personne[3])\n",
    "\n",
    "liste = [4, 6, 8, 9, 1, 6, 4, 2, 3, 0, 3]\n",
    "liste[3] = 2\n",
    "print(liste)\n",
    "\n",
    "print(liste[-1])  # Sélectionner le dernier élément de la liste\n",
    "print(liste[:3])  # Sélectionner les trois premiers éléments de la liste\n",
    "print(liste[-3:])  # Sélectionner les trois derniers éléments de la liste\n",
    "print(liste[2:4])  # Sélectionner la sous-liste à partir de la position 2 (inclu) jusqu'à la position 4 (exclu)\n",
    "print(liste[::-1])  # Sélectionner la liste dans l'ordre inverse\n",
    "\n",
    "print(liste[2:4])  # Sélectionner la sous-liste à partir de la position 2 (inclu) jusqu'à la position 4 (exclu)\n",
    "print(liste[4])\n",
    "print(liste[3])\n",
    "print(liste[2:4])\n"
   ]
  },
  {
   "cell_type": "code",
   "execution_count": null,
   "id": "fb2bc8f0-3c8e-4b16-9192-4cb609707807",
   "metadata": {},
   "outputs": [],
   "source": []
  }
 ],
 "metadata": {
  "kernelspec": {
   "display_name": "Python 3 (ipykernel)",
   "language": "python",
   "name": "python3"
  },
  "language_info": {
   "codemirror_mode": {
    "name": "ipython",
    "version": 3
   },
   "file_extension": ".py",
   "mimetype": "text/x-python",
   "name": "python",
   "nbconvert_exporter": "python",
   "pygments_lexer": "ipython3",
   "version": "3.12.2"
  }
 },
 "nbformat": 4,
 "nbformat_minor": 5
}
